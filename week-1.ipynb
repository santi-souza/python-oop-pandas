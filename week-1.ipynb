{
 "cells": [
  {
   "cell_type": "markdown",
   "id": "5c6eea24-028c-489f-905f-f8df21093406",
   "metadata": {},
   "source": [
    "1. Indica un ejemplo de un tipo de dato:\n",
    "\n",
    "enter\n",
    "\r\n",
    "flotan\n",
    "e\r\n",
    "str\n",
    "ng\r\n",
    "booleano"
   ]
  },
  {
   "cell_type": "code",
   "execution_count": 2,
   "id": "0088c1ac-4aac-4c26-b084-78dd5059bec8",
   "metadata": {},
   "outputs": [
    {
     "name": "stdout",
     "output_type": "stream",
     "text": [
      "4\n",
      "<class 'int'>\n",
      "4.55\n",
      "<class 'float'>\n",
      "hola\n",
      "<class 'str'>\n",
      "True\n",
      "<class 'bool'>\n"
     ]
    }
   ],
   "source": [
    "entero = 4\n",
    "print(entero)\n",
    "print(type(entero))\n",
    "\n",
    "flotante = 4.55\n",
    "print(flotante)\n",
    "print(type(flotante))\n",
    "\n",
    "string = \"hola\"\n",
    "print(string)\n",
    "print(type(string))\n",
    "\n",
    "booleano = True\n",
    "print(booleano)\n",
    "print(type(booleano))\n",
    "\n"
   ]
  },
  {
   "cell_type": "markdown",
   "id": "55f94ae8-696a-42bf-8566-d8418bc7a28c",
   "metadata": {},
   "source": [
    "2. Crea dos variables que se llamen nombre y apellido, en ellas introduce tu nombre y apellidos y luego prueba lo siguiente e indica el resultado:\r\n",
    "nombre + apellido\r\n",
    "nombre + apellido + \".\"\r\n",
    "nombre * 3"
   ]
  },
  {
   "cell_type": "code",
   "execution_count": 6,
   "id": "28c64331-310f-450f-a404-eb4de42b0d6a",
   "metadata": {},
   "outputs": [
    {
     "name": "stdout",
     "output_type": "stream",
     "text": [
      "Santiago Souza\n",
      "Santiago Souza.\n",
      "SantiagoSantiagoSantiago\n"
     ]
    }
   ],
   "source": [
    "nombre = \"Santiago\"\n",
    "apellido = \"Souza\"\n",
    "print(nombre, apellido)\n",
    "print(nombre, apellido, end = \".\\n\")\n",
    "print(nombre * 3)"
   ]
  },
  {
   "cell_type": "markdown",
   "id": "b88b9f47-3863-4486-8f48-9cb8e7e08444",
   "metadata": {},
   "source": [
    "3. Retoma el ejercicio anterior, crea una variable que se llame nombreCompleto que una tu nombre y tu apellido con un espacio en el medio. Sobre esta variable, ¿eres capaz a extraer tu nombre utilizando slicing?"
   ]
  },
  {
   "cell_type": "code",
   "execution_count": 15,
   "id": "e09c7c1c-f358-4a7e-988b-b76a13feb1c4",
   "metadata": {},
   "outputs": [
    {
     "name": "stdout",
     "output_type": "stream",
     "text": [
      "Santiago Souza\n",
      " Souza\n"
     ]
    }
   ],
   "source": [
    "nombreCompleto = nombre + \" \" + apellido \n",
    "print(nombreCompleto)\n",
    "soloApellido = nombreCompleto[8:]\n",
    "print(soloApellido)"
   ]
  },
  {
   "cell_type": "markdown",
   "id": "d8e843e7-f3a1-4195-a22e-995980bb842b",
   "metadata": {},
   "source": [
    "4. Busca en la documentación la forma correcta de redondear el siguiente resultado a tan solo 2 decimales: operacion = (365 / 12) * 14.7"
   ]
  },
  {
   "cell_type": "code",
   "execution_count": 17,
   "id": "3c21d0c9-3d4f-491c-a3af-dd68062d10fc",
   "metadata": {},
   "outputs": [
    {
     "name": "stdout",
     "output_type": "stream",
     "text": [
      "447.125\n",
      "447.12\n"
     ]
    }
   ],
   "source": [
    "operacion = (365 / 12) * 14.7\n",
    "print(operacion)\n",
    "operacionRedondeada = round(operacion, 2)\n",
    "print(operacionRedondeada)"
   ]
  },
  {
   "cell_type": "markdown",
   "id": "c3a3dc1a-f0b3-4ac0-8c58-3c8cf6c14151",
   "metadata": {},
   "source": [
    "5. Crea dos variables que almacenen 2 strings (username y password). Realizar las siguientes comprobaciones utilizando operadores lógicos:\n",
    "Que la longitud de username sea mayor o igual que tres y menor que diez\n",
    "Que la password sea igual a \"CEMP\" o que sea igual a \"Python\".\n",
    "La salida por pantalla tiene que ser:\n",
    "Username: True o False (según se haya evaluado)\n",
    "Password: True o False (según se haya evaluado)"
   ]
  },
  {
   "cell_type": "code",
   "execution_count": 31,
   "id": "9fe33912-2c0d-4fab-81ab-7c118aa5e5d3",
   "metadata": {},
   "outputs": [
    {
     "name": "stdout",
     "output_type": "stream",
     "text": [
      "Username: True\n",
      "Password: True\n"
     ]
    }
   ],
   "source": [
    "username = \"santiago\"\n",
    "password = \"CEMP\"\n",
    "print(\"Username:\", len(username) >= 3 and len(username) < 10)\n",
    "print(\"Password:\", password == \"CEMP\")"
   ]
  },
  {
   "cell_type": "markdown",
   "id": "5b4db171-8a21-4060-bbed-52e32d9d7879",
   "metadata": {},
   "source": [
    "6. Practiquemos con los operadores de asignación (=, +=, *=, etc.):\n",
    "Crea dos variables y asígnales los números que quieras\n",
    "Increméntale a num1 su valor en 1\n",
    "Decrementale a num2 su valor en 2\n",
    "Multiplica num1 por 3 y actualiza su valor\n",
    "Divide num2 por 2 y actualiza su valor\n",
    "Muestra los resultados"
   ]
  },
  {
   "cell_type": "code",
   "execution_count": 34,
   "id": "7e7494fb-6907-4074-b3bd-2c85ba0272bc",
   "metadata": {},
   "outputs": [
    {
     "name": "stdout",
     "output_type": "stream",
     "text": [
      "1\n",
      "2\n",
      "2\n",
      "4\n",
      "6\n",
      "2.0\n"
     ]
    }
   ],
   "source": [
    "num1 = 1\n",
    "num2 = 2\n",
    "print(num1)\n",
    "print(num2)\n",
    "num1 += 1\n",
    "num2 += 2\n",
    "print(num1)\n",
    "print(num2)\n",
    "num1 *= 3\n",
    "num2 /= 2\n",
    "print(num1)\n",
    "print(num2)"
   ]
  },
  {
   "cell_type": "markdown",
   "id": "6bda9dcc-cf8e-427f-a0c4-a856d998fb52",
   "metadata": {},
   "source": [
    "7. Utiliza el método input() para realizar las siguientes tareas:\r\n",
    "Pide un número por teclado, muestra el resultado y su tipo (para conocer en qué tipo de dato captura la información input())\r\n",
    "Pide un número por teclado y asegúrate de que capturemos la información en formato int\r\n",
    "Pide un número por teclado y asegúrate de que capturemos la información en formato float Comprobar con type que los datos son del tipo correcto"
   ]
  },
  {
   "cell_type": "markdown",
   "id": "5c001604-6a92-4bba-82de-f466c799f21f",
   "metadata": {},
   "source": [
    "numero1 = input(\"1. Ingresa un numero: \")\n",
    "print(numero1)\n",
    "print(type(numero1))\n",
    "\n",
    "numero2 = int(input(\"2. Ingresa un numero: \"))\n",
    "print(numero2)\n",
    "print(type(numero2))\n",
    "\n",
    "numero3 = float(input(\"3. Ingresa un numero: \"))\n",
    "print(numero3)\n",
    "print(type(numero3))"
   ]
  },
  {
   "cell_type": "markdown",
   "id": "809baeb1-5e61-4ddb-945d-b6f4d9a56f32",
   "metadata": {},
   "source": [
    "8. Vamos a formatear números:\r\n",
    "Pide un numero entero por teclado\r\n",
    "Muéstralo con el formato de 5 dígitos rellenos con 0s por delante\r\n",
    "Pide un número flotante por teclado\r\n",
    "Muéstralo con 5 dígitos para la parte entera y 3 dígitos para la parte decimal"
   ]
  },
  {
   "cell_type": "code",
   "execution_count": 43,
   "id": "054be748-2d6b-47ec-b554-7773ac5144af",
   "metadata": {},
   "outputs": [
    {
     "name": "stdin",
     "output_type": "stream",
     "text": [
      "1. Ingresa un numero entero:  2\n"
     ]
    },
    {
     "name": "stdout",
     "output_type": "stream",
     "text": [
      "00002\n"
     ]
    },
    {
     "name": "stdin",
     "output_type": "stream",
     "text": [
      "1. Ingresa un numero flotante:  2.32323\n"
     ]
    },
    {
     "name": "stdout",
     "output_type": "stream",
     "text": [
      "00002.323\n"
     ]
    }
   ],
   "source": [
    "numero1 = int(input(\"1. Ingresa un numero entero: \"))\n",
    "print(\"{:05d}\".format(numero1))\n",
    "\n",
    "numero2 = float(input(\"1. Ingresa un numero flotante: \"))\n",
    "print(\"{:09.3f}\".format(numero2))"
   ]
  },
  {
   "cell_type": "markdown",
   "id": "c7ce6d03-f9b2-459c-9170-8e734b477dcd",
   "metadata": {},
   "source": [
    "9. Vamos a ponernos creativos. ¿Cuántas formas tienes de mostrar esta información?\r\n",
    "La altura es de 1,80 metros y el peso es de 80,135 KG\r\n",
    "Siendo la altura y el peso dos variables que se recojan con 2 inputs\r\n",
    "Pista: format() se puede usar de varias formas ."
   ]
  },
  {
   "cell_type": "code",
   "execution_count": 51,
   "id": "251bc90f-0f34-49f9-bb37-c213c46c2c66",
   "metadata": {},
   "outputs": [
    {
     "name": "stdin",
     "output_type": "stream",
     "text": [
      "Ingresa la altura:  1.80\n",
      "Ingresa el peso:  80.135\n"
     ]
    },
    {
     "name": "stdout",
     "output_type": "stream",
     "text": [
      "La altura es de 1.80 metros y el peso es de 80.135 KG\n"
     ]
    }
   ],
   "source": [
    "altura = float(input(\"Ingresa la altura: \"))\n",
    "peso = float(input(\"Ingresa el peso: \"))\n",
    "print(\"La altura es de\", \"{:04.2f}\".format(altura), \"metros y el peso es de\", \"{:05.3f}\".format(peso), \"KG\")"
   ]
  },
  {
   "cell_type": "code",
   "execution_count": null,
   "id": "5f98bb7d-086b-4398-88d0-93148302d814",
   "metadata": {},
   "outputs": [],
   "source": []
  }
 ],
 "metadata": {
  "kernelspec": {
   "display_name": "Python 3 (ipykernel)",
   "language": "python",
   "name": "python3"
  },
  "language_info": {
   "codemirror_mode": {
    "name": "ipython",
    "version": 3
   },
   "file_extension": ".py",
   "mimetype": "text/x-python",
   "name": "python",
   "nbconvert_exporter": "python",
   "pygments_lexer": "ipython3",
   "version": "3.11.7"
  }
 },
 "nbformat": 4,
 "nbformat_minor": 5
}
