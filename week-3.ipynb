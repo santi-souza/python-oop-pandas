{
 "cells": [
  {
   "cell_type": "markdown",
   "id": "6bc45ad7-53cc-466b-9ed3-743a28faf133",
   "metadata": {},
   "source": [
    "1) Dentro de la célula, el ADN guarda la información necesaria para construir las proteínas. El ADN es una cadena formada por muchas combinaciones de cuatro nucleótidos A, C, G y T. Las distintas combinaciones le otorgan distintas funcionalidades. Para que la información llegue del ADN a las proteínas, el mensaje genético es copiado desde el ADN a otra molécula, el ARN.\r\n",
    "\r\n",
    "El ARN es muy similar al ADN pero con el nucleótido U en vez de T. Este es libre de moverse del núcleo al citosol para guiar la síntesis de proteínas. En el ARN, cada combinación de tres nucleótidos/letras (o triplete) se denomina codón. Cada aminoácido de las proteínas está codificado por uno o varios codones. Por ejemplo, el codón ‘AUG’ codifica para el aminoácido Metionina, el codón ‘AAA’ para Lisina, el codón ‘CUA’ para Leucina, etc.\r\n",
    "\r\n",
    "Tomemos por ejemplo la siguiente codificación, una versión simplificada del código genético unive\n",
    "\n",
    "Como una forma de acortar la cantidad de letras que se usan para simbolizar un aminoácido, se establecieron por convención las nomenclauturas de 3 y 1 letra. Entonces, por ejemplo, la forma más corta de simbolizar Asparagina puede ser usando \"Asn\" o \"N\"\r\n",
    "\r\n",
    "¿Podrías escribir un programa que imprima una cadena de ARN codificante para el siguiente péptido (cadena corta de aminoácidos)? PISTA: usa bucles, condiciones y operadores.\r\n",
    "Sec1: AGEKGKKIFVQKCSQCHTVCSQCHTVEKGGKHKTGPNEKGKKIFVQKCSQCHTVLHGLFGRKTGQA\r\n",
    "¿Podrías hacer que tu programa cuente el contenido de G y C (en términos de porcentaje, respecto al largo total de la secuencia) sobre la secuencia de ARN generada?rsal"
   ]
  },
  {
   "cell_type": "code",
   "execution_count": 21,
   "id": "ddbbef74-c161-4839-bea4-0899fcb273d4",
   "metadata": {},
   "outputs": [
    {
     "name": "stdout",
     "output_type": "stream",
     "text": [
      "La secuencia de ARN es: GCUGGCGAAAAAGGCAAAAAAAUUUUUGUACAGAAAUGCUCUCAGUGCCAUACUGUAUGCUCUCAGUGCCAUACUGUAGAAAAAGGCGGCAAACAUAAAACUGGCCCUAAUGAAAAAGGCAAAAAAAUUUUUGUACAGAAAUGCUCUCAGUGCCAUACUGUAUUACAUGGCUUAUUUGGCAGAAAAACUGGCCAGGCU\n",
      "El contenido GC es de 39.9 %\n"
     ]
    }
   ],
   "source": [
    "peptido = \"AGEKGKKIFVQKCSQCHTVCSQCHTVEKGGKHKTGPNEKGKKIFVQKCSQCHTVLHGLFGRKTGQA\"\n",
    "secuencia = \"\"\n",
    "\n",
    "for aa in peptido:\n",
    "    if aa == \"A\":\n",
    "        secuencia += \"GCU\"\n",
    "    elif aa == \"R\":\n",
    "        secuencia += \"AGA\"\n",
    "    elif aa == \"N\":\n",
    "        secuencia += \"AAU\"\n",
    "    elif aa == \"D\":\n",
    "        secuencia += \"GAU\"\n",
    "    elif aa == \"C\":\n",
    "        secuencia += \"UGC\"\n",
    "    elif aa == \"F\":\n",
    "        secuencia += \"UUU\"\n",
    "    elif aa == \"G\":\n",
    "        secuencia += \"GGC\"\n",
    "    elif aa == \"E\":\n",
    "        secuencia += \"GAA\"\n",
    "    elif aa == \"Q\":\n",
    "        secuencia += \"CAG\"\n",
    "    elif aa == \"H\":\n",
    "        secuencia += \"CAU\"\n",
    "    elif aa == \"I\":\n",
    "        secuencia += \"AUU\"\n",
    "    elif aa == \"L\":\n",
    "        secuencia += \"UUA\"\n",
    "    elif aa == \"K\":\n",
    "        secuencia += \"AAA\"\n",
    "    elif aa == \"P\":\n",
    "        secuencia += \"CCU\"\n",
    "    elif aa == \"S\":\n",
    "        secuencia += \"UCU\"\n",
    "    elif aa == \"Y\":\n",
    "        secuencia += \"UAU\"\n",
    "    elif aa == \"T\":\n",
    "        secuencia += \"ACU\"\n",
    "    elif aa == \"W\":\n",
    "        secuencia += \"UGG\"\n",
    "    elif aa == \"V\":\n",
    "        secuencia += \"GUA\"\n",
    "    elif aa == \"M\":\n",
    "        secuencia += \"AUG\"\n",
    "\n",
    "cantidad_g = secuencia.count('G')\n",
    "cantidad_c = secuencia.count('C')\n",
    "contenido_gc = round(((cantidad_g + cantidad_c) / len(secuencia)) * 100, 2)\n",
    "\n",
    "print(\"La secuencia de ARN es:\", secuencia)\n",
    "print(\"El contenido GC es de\",contenido_gc, \"%\")"
   ]
  },
  {
   "cell_type": "markdown",
   "id": "1ca7fda8-7e9a-4814-89fe-51291f9a1735",
   "metadata": {},
   "source": [
    "2) Como resultado de la evolución biológica, y dado que todos los organismos provienen de ancestros comunes, existen genes en distintos organismos que guardan cierto grado de similitud (es decir, comparten total o parcialmente la secuencia) y que codifican para proteínas similares. Por ejemplo, tomemos estos fragmentos de secuencias de Citocromo C (una proteína involucrada en la respiración), pertenecientes a organismos distintos: \r\n",
    "\r\n",
    "CitC_humano: VEKGKKIFIMKCSQCHTVEKGGKHKTGPNLHGLFGRKTGQA\r\n",
    "CitC_gorila: AGDVEKGKKIFIMKCSQCHTVEKGGKHKTGPNLHGLFGRKTGQA\r\n",
    "CitC_pollo: AGDIEKGKKIFVQKCSQCHTVEKGGKHKTGPNLHGLFGRK\n",
    "TGQA\r\n",
    "¿Puedes construir un programa sencillo que compare las secuencias y diga si son o no iguales?"
   ]
  },
  {
   "cell_type": "code",
   "execution_count": 24,
   "id": "20a8ce69-57b6-4576-9b77-323007079817",
   "metadata": {},
   "outputs": [
    {
     "name": "stdout",
     "output_type": "stream",
     "text": [
      "Comparación entre citC_humano y citC_gorila: Las secuencias son diferentes.\n",
      "Comparación entre citC_humano y citC_pollo: Las secuencias son diferentes.\n",
      "Comparación entre citC_gorila y citC_pollo: Las secuencias son diferentes.\n"
     ]
    }
   ],
   "source": [
    "def comparar_secuencias(secuencia1, secuencia2):\n",
    "    if secuencia1 == secuencia2:\n",
    "        return \"Las secuencias son iguales.\"\n",
    "    else:\n",
    "        return \"Las secuencias son diferentes.\"\n",
    "\n",
    "citC_humano = \"VEKGKKIFIMKCSQCHTVEKGGKHKTGPNLHGLFGRKTGQA\"\n",
    "citC_gorila = \"AGDVEKGKKIFIMKCSQCHTVEKGGKHKTGPNLHGLFGRKTGQA\"\n",
    "citC_pollo = \"AGDIEKGKKIFVQKCSQCHTVEKGGKHKTGPNLHGLFGRKTGQA\"\n",
    "\n",
    "resultado1 = comparar_secuencias(citC_humano, citC_gorila)\n",
    "resultado2 = comparar_secuencias(citC_humano, citC_pollo)\n",
    "resultado3 = comparar_secuencias(citC_gorila, citC_pollo)\n",
    "\n",
    "print(\"Comparación entre citC_humano y citC_gorila:\", resultado1)\n",
    "print(\"Comparación entre citC_humano y citC_pollo:\", resultado2)\n",
    "print(\"Comparación entre citC_gorila y citC_pollo:\", resultado3)"
   ]
  },
  {
   "cell_type": "markdown",
   "id": "0703abdd-4ed3-45c9-b0a5-c401abcea342",
   "metadata": {},
   "source": [
    "3) Dada la siguiente lista de secuencia ¿podrías construir un programa que detecte si se trata de una secuencia de ADN, ARN o proteína e imprima en pantalla de qué tipo de molécula se trata?\r\n",
    "\r\n",
    "Sec2: AGDVEKGKKIFIMK\r\n",
    "Sec3: ATTGGACGTAATGC\r\n",
    "Sec4: AGGUACCGAUCCA"
   ]
  },
  {
   "cell_type": "code",
   "execution_count": 30,
   "id": "bd82f3f3-df87-417a-8619-4bbfb02d853e",
   "metadata": {},
   "outputs": [
    {
     "name": "stdout",
     "output_type": "stream",
     "text": [
      "La sec2 es Proteina\n",
      "La sec3 es ADN\n",
      "La sec4 es ARN\n"
     ]
    }
   ],
   "source": [
    "sec2 = \"AGDVEKGKKIFIMK\"\n",
    "sec3 = \"ATTGGACGTAATGC\"\n",
    "sec4 = \"AGGUACCGAUCCA\"\n",
    "\n",
    "def que_secuencia(secuencia):\n",
    "    for letra in secuencia:\n",
    "        if \"T\" in secuencia:\n",
    "            return \"ADN\"\n",
    "        elif \"U\" in secuencia:\n",
    "            return \"ARN\"\n",
    "        else: \n",
    "            return \"Proteina\"\n",
    "        \n",
    "resultado1 = que_secuencia(sec2)\n",
    "resultado2 = que_secuencia(sec3)\n",
    "resultado3 = que_secuencia(sec4)\n",
    "\n",
    "print(\"La sec2 es\", resultado1)\n",
    "print(\"La sec3 es\", resultado2)\n",
    "print(\"La sec4 es\", resultado3)\n"
   ]
  },
  {
   "cell_type": "markdown",
   "id": "3abd82c3-370d-4b5c-ae3f-679c3fb02876",
   "metadata": {},
   "source": [
    "4) ¿Podrías mejorar el programa del punto anterior haciendo que sea capaz de tomar secuencias que ingresa el usuario? Recordá que no siempre el usuario utiliza mayúsculas, pero tu programa debe ser capaz de procesar tanto minúsculas como mayúsculas."
   ]
  },
  {
   "cell_type": "code",
   "execution_count": 43,
   "id": "144ee43c-d628-41ec-8e23-ca9520b1f175",
   "metadata": {},
   "outputs": [
    {
     "name": "stdin",
     "output_type": "stream",
     "text": [
      "Ingrese una secuencia:  as\n"
     ]
    },
    {
     "name": "stdout",
     "output_type": "stream",
     "text": [
      "La secuencia que ingresaste es: Proteina\n"
     ]
    }
   ],
   "source": [
    "secuencia_random = input(\"Ingrese una secuencia: \")\n",
    "\n",
    "secuencia_random_upper = secuencia_random.upper()\n",
    "\n",
    "resultado = que_secuencia(secuencia_random_upper)\n",
    "\n",
    "print(\"La secuencia que ingresaste es:\", resultado)"
   ]
  }
 ],
 "metadata": {
  "kernelspec": {
   "display_name": "Python 3 (ipykernel)",
   "language": "python",
   "name": "python3"
  },
  "language_info": {
   "codemirror_mode": {
    "name": "ipython",
    "version": 3
   },
   "file_extension": ".py",
   "mimetype": "text/x-python",
   "name": "python",
   "nbconvert_exporter": "python",
   "pygments_lexer": "ipython3",
   "version": "3.11.7"
  }
 },
 "nbformat": 4,
 "nbformat_minor": 5
}
