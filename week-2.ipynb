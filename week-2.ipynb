{
 "cells": [
  {
   "cell_type": "markdown",
   "id": "459d955f-608e-4a38-8131-a2f3052adb90",
   "metadata": {},
   "source": [
    "1. Trabajemos con listas y tuplas\r\n",
    "Crea una lista y una tupla que contenga strings (al menos 3 elementos). Temática libre, a poder ser, relacionado con la temática del master: pacientes, enfermedades, medicamentos, síntomas…\r\n",
    "Muestra la lista y la tupla\r\n",
    "Muestra el 2º elemento de la lista y el penúltimo de la tupla\r\n",
    "Modifica (si se puede) algún elemento de la lista y de la tupla. Y mostrar el resultado\r\n",
    "Muestra el tamaño de la lista y de la tupla\r\n",
    "Realiza una búsqueda de un elemento dentro de la lista y de la tupla. Mostrar si devuelve True o False\r\n",
    "Añade (si se puede) algún elemento a la lista y a la tupla. Mostrar de nuevo la lista y la tupla para verificar si se ha realizado correctamente la acción.\r\n",
    "Borra o elimina (si se puede) el contenido de la lista y de la tupla. Mosstrar de nuevo la lista y la tupla para verificar si se ha realizado correctamente la acción"
   ]
  },
  {
   "cell_type": "code",
   "execution_count": 24,
   "id": "3db99654-dea6-4961-8263-92d0c4c1b285",
   "metadata": {},
   "outputs": [
    {
     "name": "stdout",
     "output_type": "stream",
     "text": [
      "['Jorge', 'Carlos', 'Pepe', 'Jose', 'Marcelo']\n",
      "('Adriana', 'Victoria', 'Florencia', 'Ana', 'Ines')\n",
      "Carlos\n",
      "Ana\n",
      "['Santiago', 'Carlos', 'Pepe', 'Jose', 'Marcelo']\n",
      "5\n",
      "5\n",
      "True\n",
      "False\n",
      "['Santiago', 'Carlos', 'Pepe', 'Jose', 'Marcelo', 'Sebastian']\n",
      "['Santiago', 'Carlos', 'Pepe', 'Jose']\n"
     ]
    }
   ],
   "source": [
    "hombres = [\"Jorge\", \"Carlos\", \"Pepe\", \"Jose\", \"Marcelo\"]\n",
    "mujeres = (\"Adriana\", \"Victoria\", \"Florencia\", \"Ana\", \"Ines\")\n",
    "print(hombres)\n",
    "print(mujeres)\n",
    "\n",
    "print(hombres[1])\n",
    "print(mujeres[-2])\n",
    "\n",
    "hombres [0] = \"Santiago\"\n",
    "print(hombres)\n",
    "# mujeres [0] = \"Patricia\" TypeError: 'tuple' object does not support item assignment\n",
    "\n",
    "print(len(hombres))\n",
    "print(len(mujeres))\n",
    "\n",
    "santiagoHombres = \"Santiago\" in hombres\n",
    "print(santiagoHombres)\n",
    "patriciaMujeres = \"Patricia\" in mujeres\n",
    "print(patriciaMujeres)\n",
    "\n",
    "hombres.append(\"Sebastian\")\n",
    "print(hombres)\n",
    "# mujeres.append(\"Carolina\") AttributeError: 'tuple' object has no attribute 'append'\n",
    "# print(mujeres)\n",
    "\n",
    "hombres [4:] = []\n",
    "print(hombres)\n",
    "# mujeres [3] = () TypeError: 'tuple' object does not support item assignment\n",
    "# print(mujeres)"
   ]
  },
  {
   "cell_type": "markdown",
   "id": "b52db090-47d4-4b0b-a218-6063f5f695b6",
   "metadata": {},
   "source": []
  },
  {
   "cell_type": "code",
   "execution_count": 42,
   "id": "6c40db38-74b0-40db-8fad-595c86101ee4",
   "metadata": {},
   "outputs": [
    {
     "name": "stdout",
     "output_type": "stream",
     "text": [
      "{'40', '30', '20'}\n",
      "{'nombre': 'Santiago', 'edad': 26, 'altura': 1.72}\n",
      "Santiago\n",
      "{'nombre': 'Marcelo', 'edad': 26, 'altura': 1.72}\n",
      "True\n",
      "False\n",
      "{'40', '30', '50', '20'}\n",
      "{'nombre': 'Marcelo', 'edad': 26, 'altura': 1.72, 'pelo': 'marron'}\n",
      "{'40', '30', '50'}\n",
      "{'nombre': 'Marcelo', 'edad': 26, 'altura': 1.72}\n"
     ]
    }
   ],
   "source": [
    "edades = {\"20\", \"30\", \"40\"}\n",
    "pacientes = {\n",
    "    \"nombre\": \"Santiago\",\n",
    "    \"edad\": 26,\n",
    "    \"altura\": 1.72\n",
    "}\n",
    "print(edades)\n",
    "# print(type(edades)) set\n",
    "print(pacientes)\n",
    "# print(type(pacientes)) dict\n",
    "\n",
    "# print(edades[1]) TypeError: 'set' object is not subscriptable\n",
    "nombre = pacientes[\"nombre\"]\n",
    "print(nombre)\n",
    "\n",
    "# edades[1] = \"50\" TypeError: 'set' object does not support item assignment\n",
    "pacientes[\"nombre\"] = \"Marcelo\"\n",
    "print(pacientes)\n",
    "\n",
    "print(\"20\" in edades)\n",
    "print(\"Santiago\" in pacientes)\n",
    "\n",
    "edades.add(\"50\")\n",
    "print(edades)\n",
    "pacientes[\"pelo\"] = \"marron\"\n",
    "print(pacientes)\n",
    "\n",
    "edades.remove(\"20\")\n",
    "print(edades)\n",
    "pacientes.popitem() # elimina el ultimo elemento insertado\n",
    "print(pacientes)"
   ]
  },
  {
   "cell_type": "markdown",
   "id": "d11e2556-064b-4c93-a9db-8b7b066c4573",
   "metadata": {},
   "source": [
    "3. Realizar un programa que pida al usuario 3 números (que pueden representar la temperatura de un paciente, por lo que deberán ser float) estos números se deberán introducir en una lista a medida que se van introduciendo. Cuando se haya finalizado la introducción de los datos, se mostrará el sumatorio de toda la lista y el promedio. Guardar el sumatorio en una variable que se llame \"sumatorio\" y el promedio en una variable llamada “promedio”.\r\n",
    "Ayuda: Existe una función llamada sum(lista) ¡Pruébalo!\r\n",
    "Para el promedio, en este caso sabemos que el número de elementos que ha introducido el usuario es 3, pero en otra ocasión podría ser diferente, por lo tanto, no hagáis referencia al número 3 en ningún sitio, es decir, no hagáis: sumatorio / 3. Investigar cómo podemos obtener el número de elementos de la lista de temperaturas."
   ]
  },
  {
   "cell_type": "code",
   "execution_count": 57,
   "id": "6238400d-48d2-4a90-81a3-4be9880f3612",
   "metadata": {},
   "outputs": [
    {
     "name": "stdin",
     "output_type": "stream",
     "text": [
      "1. Ingrese la temperatura:  20.33\n",
      "2. Ingrese la temperatura:  26.45\n",
      "3. Ingrese la temperatura:  30.34\n"
     ]
    },
    {
     "name": "stdout",
     "output_type": "stream",
     "text": [
      "La sumatoria es:  77.12 y el promedio es:  25.71\n",
      "[20.33, 26.45, 30.34]\n"
     ]
    }
   ],
   "source": [
    "lista = []\n",
    "temp1 = float(input(\"1. Ingrese la temperatura: \"))\n",
    "lista.append(temp1)\n",
    "temp2 = float(input(\"2. Ingrese la temperatura: \"))\n",
    "lista.append(temp2)\n",
    "temp3 = float(input(\"3. Ingrese la temperatura: \"))\n",
    "lista.append(temp3)\n",
    "sumatorio = round(sum(lista), 2)\n",
    "promedio = round(sum(lista) / len(lista), 2) # En este caso len(lista) == 3.\n",
    "print(\"La sumatoria es:\", sumatorio, \"y el promedio es:\", promedio)\n",
    "print(lista)\n",
    "                           "
   ]
  },
  {
   "cell_type": "code",
   "execution_count": 63,
   "id": "59248337-8753-4042-a5c7-3322b588c244",
   "metadata": {},
   "outputs": [
    {
     "name": "stdin",
     "output_type": "stream",
     "text": [
      "Cant de nums:  3\n",
      "Ingrese la temperatura:  20.67\n",
      "Ingrese la temperatura:  30.54\n",
      "Ingrese la temperatura:  27.55\n"
     ]
    },
    {
     "name": "stdout",
     "output_type": "stream",
     "text": [
      "[20.67, 30.54, 27.55]\n",
      "La sumatoria es:  78.76 y el promedio es:  26.25\n"
     ]
    }
   ],
   "source": [
    "# Forma mas facil, indicando los nums que quiero ingresar \n",
    "lista = []\n",
    "nums = int(input(\"Cant de nums: \"))\n",
    "for x in range(nums):\n",
    "    temp = float(input(\"Ingrese la temperatura: \"))\n",
    "    lista.append(temp)\n",
    "print(lista)\n",
    "sumatorio = round(sum(lista), 2)\n",
    "promedio = round(sum(lista) / len(lista), 2) # En este caso len(lista) == 3.\n",
    "print(\"La sumatoria es:\", sumatorio, \"y el promedio es:\", promedio)\n",
    " "
   ]
  },
  {
   "cell_type": "markdown",
   "id": "c60a784b-23bb-4185-82e0-07673d12a639",
   "metadata": {},
   "source": [
    "4. Practiquemos con conjuntos:\r\n",
    "Crea un conjunto llamado PacientesEstudioA que tenga los elementos Geli, Leticia, Carlos, Baltasar y Tobías\r\n",
    "Crea un conjunto llamado PacientesEstudioB que tenga los elementos Baltasar y Sandra\r\n",
    "Borra a Tobías del conjunto PacientesEstudioA\r\n",
    "Añade a Pelayo al conjunto PacientesEstudioB\r\n",
    "Imprime los conjuntos por pantalla\r\n",
    "Imprime por pantalla los elementos que se encuentren en ambos conjuntos, es decir, que sean de ambos estudios.\r\n",
    "¡Utiliza técnicas de conjuntos!"
   ]
  },
  {
   "cell_type": "code",
   "execution_count": 66,
   "id": "b8b602bb-7252-428d-9418-9f258c51e47f",
   "metadata": {},
   "outputs": [
    {
     "name": "stdout",
     "output_type": "stream",
     "text": [
      "{'Carlos', 'Geli', 'Baltasar', 'Tobias', 'Leticia'}\n",
      "{'Baltasar', 'Sandra'}\n",
      "{'Carlos', 'Geli', 'Baltasar', 'Leticia'}\n",
      "{'Baltasar', 'Sandra', 'Pelayo'}\n",
      "{'Baltasar'}\n"
     ]
    }
   ],
   "source": [
    "PacientesEstudioA = {\"Geli\", \"Leticia\", \"Carlos\", \"Baltasar\", \"Tobias\"}\n",
    "PacientesEstudioB = {\"Baltasar\", \"Sandra\"}\n",
    "print(PacientesEstudioA)\n",
    "print(PacientesEstudioB)\n",
    "\n",
    "PacientesEstudioA.remove(\"Tobias\")\n",
    "PacientesEstudioB.add(\"Pelayo\")\n",
    "print(PacientesEstudioA)\n",
    "print(PacientesEstudioB)\n",
    "\n",
    "print(PacientesEstudioA & PacientesEstudioB)"
   ]
  },
  {
   "cell_type": "markdown",
   "id": "f08172f1-5796-48b1-8cf7-0c68fe968458",
   "metadata": {},
   "source": [
    "5. Practiquemos con diccionarios. Tenemos un diccionario que contiene un tratamiento para un paciente (el cual incluye una serie de medicamentos y cantidades que se le están proporcionando al paciente). Realicemos las tres siguientes tareas:\n",
    "Mostrar todo el tratamiento.\n",
    "Subir la dosis a todos los medicamentos del tratamiento en un 50%\n",
    "Volver a ver todo el tratamiento (para comprobar que ha cambiado)\n",
    "Al inicio del programa, se mostrarán el tratamiento con el siguiente formato: 1 - AHKS - 1.2 ML\n",
    "Posteriormente, a todos los medicamentos se les aplicará una subida del 50% en sus cantidades.\r\n",
    "\r\n",
    "Y finalmente volveremos a mostrar todo el tratamiento para comprobar la subida.\r\n",
    "\r\n",
    "Diccionario de trabajo:\r\n",
    "\r\n",
    "tratamiento = { 'id':[1,2,3],\r\n",
    "\r\n",
    "'nombre':['AHKS', 'RGPS', 'PRCT'],\r\n",
    "\r\n",
    "'cantidad': [1.2, 2.5, 0.36]\r\n",
    "\r\n",
    "}"
   ]
  },
  {
   "cell_type": "code",
   "execution_count": 91,
   "id": "af8ff92b-f884-4758-9edf-68fac0749ea1",
   "metadata": {},
   "outputs": [
    {
     "name": "stdout",
     "output_type": "stream",
     "text": [
      "1 - AHKS - 1.2 ML\n",
      "2 - RGPS - 2.5 ML\n",
      "3 - PRCT - 0.36 ML\n",
      "1 - AHKS - 1.7999999999999998 ML\n",
      "2 - RGPS - 3.75 ML\n",
      "3 - PRCT - 0.54 ML\n"
     ]
    }
   ],
   "source": [
    "tratamiento = { 'id':[1, 2, 3],\n",
    "\n",
    "'nombre':['AHKS', 'RGPS', 'PRCT'],\n",
    "\n",
    "'cantidad': [1.2, 2.5, 0.36]\n",
    "\n",
    "}\n",
    "\n",
    "print(tratamiento[\"id\"][0], \"-\", tratamiento[\"nombre\"][0], \"-\", tratamiento[\"cantidad\"][0], \"ML\")\n",
    "print(tratamiento[\"id\"][1], \"-\", tratamiento[\"nombre\"][1], \"-\", tratamiento[\"cantidad\"][1], \"ML\")\n",
    "print(tratamiento[\"id\"][2], \"-\", tratamiento[\"nombre\"][2], \"-\", tratamiento[\"cantidad\"][2], \"ML\")\n",
    "\n",
    "# Aumentar el 50% de la dosis \n",
    "tratamiento[\"cantidad\"][0] *= 1.50\n",
    "tratamiento[\"cantidad\"][1] *= 1.50\n",
    "tratamiento[\"cantidad\"][2] *= 1.50\n",
    "print(tratamiento[\"id\"][0], \"-\", tratamiento[\"nombre\"][0], \"-\", tratamiento[\"cantidad\"][0], \"ML\")\n",
    "print(tratamiento[\"id\"][1], \"-\", tratamiento[\"nombre\"][1], \"-\", tratamiento[\"cantidad\"][1], \"ML\")\n",
    "print(tratamiento[\"id\"][2], \"-\", tratamiento[\"nombre\"][2], \"-\", tratamiento[\"cantidad\"][2], \"ML\")\n"
   ]
  },
  {
   "cell_type": "code",
   "execution_count": null,
   "id": "0832794f-1063-44ed-854f-97235a1b3b42",
   "metadata": {},
   "outputs": [],
   "source": []
  }
 ],
 "metadata": {
  "kernelspec": {
   "display_name": "Python 3 (ipykernel)",
   "language": "python",
   "name": "python3"
  },
  "language_info": {
   "codemirror_mode": {
    "name": "ipython",
    "version": 3
   },
   "file_extension": ".py",
   "mimetype": "text/x-python",
   "name": "python",
   "nbconvert_exporter": "python",
   "pygments_lexer": "ipython3",
   "version": "3.11.7"
  }
 },
 "nbformat": 4,
 "nbformat_minor": 5
}
