{
 "cells": [
  {
   "cell_type": "markdown",
   "id": "6e5705ce-af7d-4896-afef-98b49d36796b",
   "metadata": {},
   "source": [
    "1) Recuerdas el ejercicio 1 de la semana pasada, donde hiciste un programa que mostraba una cadena de ARN en base a una cadena corta de aminoácidos. Mejora ese ejercicio implementando funciones. Intenta modularizar el código al máximo (separar en funciones todo lo que puedas)."
   ]
  },
  {
   "cell_type": "code",
   "execution_count": 1,
   "id": "68d31e26-1855-4503-9c76-0feee9428a7c",
   "metadata": {},
   "outputs": [
    {
     "name": "stdout",
     "output_type": "stream",
     "text": [
      "La secuencia de ARN es: GCUGGCGAAAAAGGCAAAAAAAUUUUUGUACAGAAAUGCUCUCAGUGCCAUACUGUAUGCUCUCAGUGCCAUACUGUAGAAAAAGGCGGCAAACAUAAAACUGGCCCUAAUGAAAAAGGCAAAAAAAUUUUUGUACAGAAAUGCUCUCAGUGCCAUACUGUAUUACAUGGCUUAUUUGGCAGAAAAACUGGCCAGGCU\n",
      "\n",
      "El contenido GC es de 39.9 %\n"
     ]
    }
   ],
   "source": [
    "def traducir_prot(peptido):\n",
    "    secuencia = \"\"\n",
    "    for aa in peptido:\n",
    "        if aa == \"A\":\n",
    "            secuencia += \"GCU\"\n",
    "        elif aa == \"R\":\n",
    "            secuencia += \"AGA\"\n",
    "        elif aa == \"N\":\n",
    "            secuencia += \"AAU\"\n",
    "        elif aa == \"D\":\n",
    "            secuencia += \"GAU\"\n",
    "        elif aa == \"C\":\n",
    "            secuencia += \"UGC\"\n",
    "        elif aa == \"F\":\n",
    "            secuencia += \"UUU\"\n",
    "        elif aa == \"G\":\n",
    "            secuencia += \"GGC\"\n",
    "        elif aa == \"E\":\n",
    "            secuencia += \"GAA\"\n",
    "        elif aa == \"Q\":\n",
    "            secuencia += \"CAG\"\n",
    "        elif aa == \"H\":\n",
    "            secuencia += \"CAU\"\n",
    "        elif aa == \"I\":\n",
    "            secuencia += \"AUU\"\n",
    "        elif aa == \"L\":\n",
    "            secuencia += \"UUA\"\n",
    "        elif aa == \"K\":\n",
    "            secuencia += \"AAA\"\n",
    "        elif aa == \"P\":\n",
    "            secuencia += \"CCU\"\n",
    "        elif aa == \"S\":\n",
    "            secuencia += \"UCU\"\n",
    "        elif aa == \"Y\":\n",
    "            secuencia += \"UAU\"\n",
    "        elif aa == \"T\":\n",
    "            secuencia += \"ACU\"\n",
    "        elif aa == \"W\":\n",
    "            secuencia += \"UGG\"\n",
    "        elif aa == \"V\":\n",
    "            secuencia += \"GUA\"\n",
    "        elif aa == \"M\":\n",
    "            secuencia += \"AUG\"\n",
    "    return secuencia\n",
    "\n",
    "def contenido_gc_fun(secuencia):\n",
    "    cantidad_g = secuencia.count('G')\n",
    "    cantidad_c = secuencia.count('C')\n",
    "    contenido_gc = round(((cantidad_g + cantidad_c) / len(secuencia)) * 100, 2)\n",
    "    return contenido_gc\n",
    "\n",
    "peptido_x = \"AGEKGKKIFVQKCSQCHTVCSQCHTVEKGGKHKTGPNEKGKKIFVQKCSQCHTVLHGLFGRKTGQA\"\n",
    "\n",
    "resultado1 = traducir_prot(peptido_x) # Me traduce de proteina a ARN.\n",
    "resultado2 = contenido_gc_fun(resultado1) # Me toma la cadena de ARN y le calcula el %GC.\n",
    "\n",
    "print(f\"La secuencia de ARN es: {resultado1}\\n\")\n",
    "##print(\"\\n\")\n",
    "print(\"El contenido GC es de\",resultado2, \"%\")"
   ]
  },
  {
   "cell_type": "code",
   "execution_count": 2,
   "id": "33ea0b9a-a27c-4968-a99f-f0a490429a02",
   "metadata": {},
   "outputs": [
    {
     "name": "stdout",
     "output_type": "stream",
     "text": [
      "AGEKGKKIFVQKCSQCHTVCSQCHTVEKGGKHKTGPNEKGKKIFVQKCSQCHTVLHGLFGRKTGQA\n",
      "--------------\n",
      "Cadena de ARN:\n",
      "--------------\n",
      "GCUGGCGAAAAAGGCAAAAAAAUUUUUGUACAGAAAUGCUCUCAGUGCCAUACUGUAUGCUCUCAGUGCCAUACUGUAGAAAAAGGCGGCAAACAUAAAACUGGCCCUAAUGAAAAAGGCAAAAAAAUUUUUGUACAGAAAUGCUCUCAGUGCCAUACUGUAUUACAUGGCUUAUUUGGCAGAAAAACUGGCCAGGCU\n"
     ]
    }
   ],
   "source": [
    "sec1 = \"AGEKGKKIFVQKCSQCHTVCSQCHTVEKGGKHKTGPNEKGKKIFVQKCSQCHTVLHGLFGRKTGQA\" \n",
    "codigo = {\"A\": \"GCU\", \"R\": \"AGA\", \"N\": \"AAU\", \"D\": \"GAU\", \"C\": \"UGC\", \"F\": \"UUU\", \"G\": \"GGC\", \"E\": \"GAA\", \"Q\": \"CAG\", \"H\": \"CAU\", \"I\": \"AUU\", \"L\": \"UUA\", \"K\": \"AAA\", \"P\": \"CCU\", \"S\": \"UCU\", \"Y\": \"UAU\", \"T\": \"ACU\", \"W\": \"UGG\", \"V\": \"GUA\", \"M\": \"AUG\", \"STOP\": \"UAA\"} \n",
    "print(sec1) \n",
    "print (\"--------------\") \n",
    "print(\"Cadena de ARN:\") \n",
    "print (\"--------------\") \n",
    "ARN = \"\" \n",
    "\n",
    "for i in range(len(sec1)): \n",
    "    ARN += codigo[sec1[i]] \n",
    "\n",
    "print(ARN) "
   ]
  },
  {
   "cell_type": "markdown",
   "id": "49d96f5b-4b30-41de-b73c-c9fac21f4881",
   "metadata": {},
   "source": [
    "2) Realizar una función llamada imc(). Esta función nos proporcionará el estado nutricional de una persona. Esto es; la clasificación de su índice de masa corporal (IMC), según la tabla proporcionada. La función recibirá el peso (en kilos) y la talla de una persona (en metros con dos decimales), datos a partir de los cuales se puede calcular el IMC cómo:\r\n",
    "\r\n",
    "IMC = peso / (altura * altura)\r\n",
    "\r\n",
    "Clasificación: IMC (Kg/m^2)\r\n",
    "\r\n",
    "Bajo peso: < 18.50\r\n",
    "Normal: [18.50, 25.00)\r\n",
    "Sobrepeso: >= 25.00\r\n",
    "Obesidad: >= 30.00"
   ]
  },
  {
   "cell_type": "code",
   "execution_count": 4,
   "id": "d61bb074-cef8-4b82-ad4e-ff9197da0b82",
   "metadata": {},
   "outputs": [
    {
     "name": "stdin",
     "output_type": "stream",
     "text": [
      "Ingrese su peso en kilos:  70\n",
      "Ingrese su altura en metros:  1.72\n"
     ]
    },
    {
     "name": "stdout",
     "output_type": "stream",
     "text": [
      "El IMC del paciente es: Normal.\n"
     ]
    }
   ],
   "source": [
    "def imc(peso, altura):\n",
    "    imc = peso / (altura * altura)\n",
    "    if imc < 18.50:\n",
    "        return \"Bajo peso.\"\n",
    "    elif 18.50 <= imc and imc < 25.00:\n",
    "        return \"Normal.\"\n",
    "    elif imc >= 25.00 and imc < 30.00:\n",
    "        return \"Sobrepeso.\"\n",
    "    else:\n",
    "        return \"Obesidad\"\n",
    "\n",
    "peso = float(input(\"Ingrese su peso en kilos: \"))\n",
    "altura = float(input(\"Ingrese su altura en metros: \"))\n",
    "\n",
    "r1 = imc(peso, altura)\n",
    "\n",
    "print(\"El IMC del paciente es:\", r1)"
   ]
  },
  {
   "cell_type": "markdown",
   "id": "f0cae7f1-4085-4701-8ba2-941e84a73983",
   "metadata": {},
   "source": [
    "3) Realizar una función llamada validar_cadena_adn() la cual reciba un string que contendrá una cadena de ADN. Esta función deberá devolver al programa principal un True o un False. Recordad que la validación más simple que podemos realizar es que la cadena contenga únicamente las letras A, C, T y G. El programa deberá aceptar mayusculas y minusculas."
   ]
  },
  {
   "cell_type": "code",
   "execution_count": 4,
   "id": "d354b95d-4d35-4c73-971b-bf1ec6baea87",
   "metadata": {},
   "outputs": [
    {
     "name": "stdin",
     "output_type": "stream",
     "text": [
      "Ingrese una cadena de ADN: ath\n"
     ]
    },
    {
     "name": "stdout",
     "output_type": "stream",
     "text": [
      "False\n"
     ]
    }
   ],
   "source": [
    "# Funcion para validar la cadena de ADN\n",
    "def validar_cadena_adn(cadena):\n",
    "    cadena = cadena.upper()\n",
    "    for letras in cadena: \n",
    "        if letras not in {\"A\",\"T\",\"G\",\"C\"}:\n",
    "            return False\n",
    "    return True \n",
    "\n",
    "cadena_x = input(\"Ingrese una cadena de ADN:\")\n",
    "\n",
    "resultado = validar_cadena_adn(cadena_x)\n",
    "\n",
    "print(resultado)"
   ]
  }
 ],
 "metadata": {
  "kernelspec": {
   "display_name": "Python 3 (ipykernel)",
   "language": "python",
   "name": "python3"
  },
  "language_info": {
   "codemirror_mode": {
    "name": "ipython",
    "version": 3
   },
   "file_extension": ".py",
   "mimetype": "text/x-python",
   "name": "python",
   "nbconvert_exporter": "python",
   "pygments_lexer": "ipython3",
   "version": "3.11.7"
  }
 },
 "nbformat": 4,
 "nbformat_minor": 5
}
